{
  "cells": [
    {
      "cell_type": "code",
      "execution_count": null,
      "metadata": {
        "id": "Z1YWsaTVdfd5"
      },
      "outputs": [],
      "source": [
        "import pandas as pd\n",
        "import xgboost as xgb\n",
        "from sklearn.model_selection import train_test_split, GridSearchCV, KFold\n",
        "from sklearn.metrics import mean_squared_error, r2_score\n",
        "\n",
        "\n",
        "extended_data_imputed = pd.read_csv(\"world_bank_extended_data_imputed.csv\")"
      ]
    },
    {
      "cell_type": "code",
      "execution_count": null,
      "metadata": {
        "colab": {
          "base_uri": "https://localhost:8080/",
          "height": 226
        },
        "id": "T2P0iSUWeM2I",
        "outputId": "f0cd8fef-d645-440e-b189-2f0b0481f7bd"
      },
      "outputs": [],
      "source": [
        "extended_data_imputed.head()"
      ]
    },
    {
      "cell_type": "code",
      "execution_count": null,
      "metadata": {
        "id": "ECWxeRHlptud"
      },
      "outputs": [],
      "source": [
        "print(xgb.rabit.get_config())\n"
      ]
    },
    {
      "cell_type": "code",
      "execution_count": null,
      "metadata": {
        "colab": {
          "base_uri": "https://localhost:8080/"
        },
        "id": "LoxXZB5IsJN-",
        "outputId": "cb2c0813-743a-43e0-b9b7-0baeeaba3d41"
      },
      "outputs": [],
      "source": [
        "\n",
        "\n",
        "# Prepare the data\n",
        "X = extended_data_imputed.drop(['CO2_emissions', 'date', 'country'], axis=1)\n",
        "y = extended_data_imputed['CO2_emissions']\n",
        "\n",
        "# Split the data into training and test sets\n",
        "X_train, X_test, y_train, y_test = train_test_split(X, y, test_size=0.2, random_state=42)\n",
        "\n",
        "# Define the parameter grid for GridSearchCV\n",
        "param_grid = {\n",
        "    'n_estimators': [100, 200, 300],\n",
        "    'learning_rate': [0.01, 0.1, 0.3],\n",
        "    'max_depth': [3, 5, 7],\n",
        "    'subsample': [0.8, 1.0],\n",
        "    'colsample_bytree': [0.8, 1.0],\n",
        "    'gamma': [0, 0.1, 0.3],\n",
        "    'alpha': [0.1, 0.5, 1.0],   # L1 regularization\n",
        "    'lambda': [1.0, 1.5, 2.0]   # L2 regularization\n",
        "}\n",
        "\n",
        "# Initialize the XGBoost model with GPU support\n",
        "xgb_model = xgb.XGBRegressor(random_state=42, tree_method=\"gpu_hist\")\n",
        "\n",
        "# Implement K-Fold cross-validation\n",
        "kfold = KFold(n_splits=5, shuffle=True, random_state=42)\n",
        "\n",
        "# Set up GridSearchCV\n",
        "grid_search = GridSearchCV(estimator=xgb_model, param_grid=param_grid,\n",
        "                           cv=kfold, scoring='neg_mean_squared_error',\n",
        "                           n_jobs=-1, verbose=1)\n",
        "\n",
        "# Fit the grid search to the data\n",
        "grid_search.fit(X_train, y_train)\n",
        "\n",
        "# Get the best parameters and model\n",
        "best_params = grid_search.best_params_\n",
        "best_model = grid_search.best_estimator_\n",
        "\n",
        "# Train the best model on the entire training data\n",
        "best_model.fit(X_train, y_train)\n",
        "\n",
        "# Make predictions on the test set\n",
        "y_pred = best_model.predict(X_test)\n",
        "\n",
        "# Evaluate the model\n",
        "rmse = mean_squared_error(y_test, y_pred, squared=False)\n",
        "r2 = r2_score(y_test, y_pred)\n",
        "\n",
        "# Evaluate cross-validation results\n",
        "cv_rmse = (-grid_search.best_score_) ** 0.5\n",
        "\n",
        "print(\"Best Parameters:\", best_params)\n",
        "print(\"RMSE:\", rmse)\n",
        "print(\"R-squared:\", r2)\n",
        "print(\"Cross-Validated RMSE (Best Model):\", cv_rmse)\n",
        "\n",
        "# Simulate GDP increase\n",
        "simulated_data_with_gdp_increase = extended_data_imputed.copy()\n",
        "simulated_data_with_gdp_increase['GDP_current_US'] = simulated_data_with_gdp_increase['GDP_current_US'] * 1.10\n",
        "\n",
        "# Predict CO2 emissions for the simulated scenario using the best model\n",
        "X_simulated = simulated_data_with_gdp_increase.drop(['CO2_emissions', 'date', 'country'], axis=1)\n",
        "simulated_predictions = best_model.predict(X_simulated)\n",
        "\n",
        "# Add the predictions to the original dataframe\n",
        "extended_data_imputed['predicted_CO2_emissions_with_GDP_increase'] = simulated_predictions\n"
      ]
    },
    {
      "cell_type": "code",
      "execution_count": null,
      "metadata": {
        "id": "LY3faEGlqxkQ"
      },
      "outputs": [],
      "source": [
        "extended_data_imputed.columns"
      ]
    },
    {
      "cell_type": "code",
      "execution_count": null,
      "metadata": {
        "id": "0-CU4V_jqkUR"
      },
      "outputs": [],
      "source": [
        "extended_data_imputed[extended_data_imputed['country'] == 'Mexico'][['country', 'date', 'CO2_emissions', 'predicted_CO2_emissions_with_GDP_increase']]"
      ]
    }
  ],
  "metadata": {
    "colab": {
      "provenance": []
    },
    "kernelspec": {
      "display_name": "Python 3",
      "name": "python3"
    },
    "language_info": {
      "codemirror_mode": {
        "name": "ipython",
        "version": 3
      },
      "file_extension": ".py",
      "mimetype": "text/x-python",
      "name": "python",
      "nbconvert_exporter": "python",
      "pygments_lexer": "ipython3",
      "version": "3.11.5"
    }
  },
  "nbformat": 4,
  "nbformat_minor": 0
}
